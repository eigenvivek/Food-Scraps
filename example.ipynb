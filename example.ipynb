{
 "metadata": {
  "language_info": {
   "codemirror_mode": {
    "name": "ipython",
    "version": 3
   },
   "file_extension": ".py",
   "mimetype": "text/x-python",
   "name": "python",
   "nbconvert_exporter": "python",
   "pygments_lexer": "ipython3",
   "version": "3.8.10"
  },
  "orig_nbformat": 2,
  "kernelspec": {
   "name": "python3810jvsc74a57bd07302a532acdeb9eedfbf06e6fa47c2a1b0b7fcdc7ad120141b55a827d1f08d37",
   "display_name": "Python 3.8.10 64-bit ('foodscraps': conda)"
  },
  "metadata": {
   "interpreter": {
    "hash": "b0fa6594d8f4cbf19f97940f81e996739fb7646882a419484c72d19e05852a7e"
   }
  }
 },
 "nbformat": 4,
 "nbformat_minor": 2,
 "cells": [
  {
   "cell_type": "code",
   "execution_count": 1,
   "metadata": {},
   "outputs": [],
   "source": [
    "import requests\n",
    "from bs4 import BeautifulSoup\n",
    "from bs4.element import NavigableString"
   ]
  },
  {
   "cell_type": "code",
   "execution_count": 2,
   "metadata": {},
   "outputs": [],
   "source": [
    "scallops = \"https://cooking.nytimes.com/recipes/1021298-seared-scallops-with-jammy-cherry-tomatoes?action=click&module=Collection%20Page%20Recipe%20Card&region=What%20You%20Should%20Cook%20on%20New%20York%20Times%20Cooking&pgType=collection&rank=32\"\n",
    "r = requests.get(scallops)"
   ]
  },
  {
   "cell_type": "code",
   "execution_count": 3,
   "metadata": {
    "tags": []
   },
   "outputs": [],
   "source": [
    "soup = BeautifulSoup(r.text, 'html.parser')"
   ]
  },
  {
   "cell_type": "code",
   "execution_count": 4,
   "metadata": {},
   "outputs": [
    {
     "output_type": "execute_result",
     "data": {
      "text/plain": [
       "'Seared Scallops With Jammy Cherry Tomatoes Recipe - NYT Cooking'"
      ]
     },
     "metadata": {},
     "execution_count": 4
    }
   ],
   "source": [
    "soup.title.string"
   ]
  },
  {
   "cell_type": "code",
   "execution_count": 5,
   "metadata": {},
   "outputs": [],
   "source": [
    "ingredients = soup.find(\"ul\", {\"class\": \"recipe-ingredients\"})"
   ]
  },
  {
   "cell_type": "code",
   "execution_count": 6,
   "metadata": {},
   "outputs": [
    {
     "output_type": "stream",
     "name": "stdout",
     "text": [
      "3 tablespoons unsalted butter\n½ cup thinly sliced shallots (about 2 shallots)\n2 garlic cloves, minced\n¼ cup dry white wine, such as muscadet or sauvignon blanc\n1 pound cherry tomatoes, cut in half through the stem (about 3 cups tomatoes)\n Kosher salt and black pepper\n16 large sea scallops (about 1 pound), tough muscle removed\n2 tablespoons grapeseed oil, plus more as needed\n1 lemon, halved\n Julienned fresh basil and mint, for serving\n Coarse sea salt, for serving\n"
     ]
    }
   ],
   "source": [
    "for item in ingredients:\n",
    "    if isinstance(item, NavigableString):\n",
    "        continue\n",
    "\n",
    "    quantity = item.find_all(\"span\", {\"class\": \"quantity\"})\n",
    "    ingredient = item.find_all(\"span\", {\"class\": \"ingredient-name\"})\n",
    "\n",
    "    print(quantity[0].text.strip(), ingredient[0].text.strip())"
   ]
  },
  {
   "cell_type": "code",
   "execution_count": 7,
   "metadata": {},
   "outputs": [
    {
     "output_type": "execute_result",
     "data": {
      "text/plain": [
       "bs4.element.Tag"
      ]
     },
     "metadata": {},
     "execution_count": 7
    }
   ],
   "source": [
    "type(ingredients)"
   ]
  },
  {
   "cell_type": "code",
   "execution_count": 8,
   "metadata": {},
   "outputs": [
    {
     "output_type": "error",
     "ename": "SyntaxError",
     "evalue": "invalid character in identifier (<ipython-input-8-f54c36b47611>, line 1)",
     "traceback": [
      "\u001b[0;36m  File \u001b[0;32m\"<ipython-input-8-f54c36b47611>\"\u001b[0;36m, line \u001b[0;32m1\u001b[0m\n\u001b[0;31m    type(½)\u001b[0m\n\u001b[0m         ^\u001b[0m\n\u001b[0;31mSyntaxError\u001b[0m\u001b[0;31m:\u001b[0m invalid character in identifier\n"
     ]
    }
   ],
   "source": [
    "type(½)"
   ]
  },
  {
   "cell_type": "code",
   "execution_count": null,
   "metadata": {},
   "outputs": [],
   "source": []
  }
 ]
}